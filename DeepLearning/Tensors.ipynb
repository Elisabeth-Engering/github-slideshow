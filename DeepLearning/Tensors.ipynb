{
  "nbformat": 4,
  "nbformat_minor": 0,
  "metadata": {
    "colab": {
      "name": "Tensors.ipynb",
      "provenance": [],
      "include_colab_link": true
    },
    "kernelspec": {
      "name": "python3",
      "display_name": "Python 3"
    },
    "language_info": {
      "name": "python"
    }
  },
  "cells": [
    {
      "cell_type": "markdown",
      "metadata": {
        "id": "view-in-github",
        "colab_type": "text"
      },
      "source": [
        "<a href=\"https://colab.research.google.com/github/Elisabeth-Engering/github-slideshow/blob/main/DeepLearning/Tensors.ipynb\" target=\"_parent\"><img src=\"https://colab.research.google.com/assets/colab-badge.svg\" alt=\"Open In Colab\"/></a>"
      ]
    },
    {
      "cell_type": "code",
      "execution_count": null,
      "metadata": {
        "colab": {
          "base_uri": "https://localhost:8080/"
        },
        "id": "_8Bj7PuEZKc5",
        "outputId": "36fd9a85-5ac6-4221-ad7c-646bb3541d9d"
      },
      "outputs": [
        {
          "output_type": "stream",
          "name": "stdout",
          "text": [
            "Execute this cell to verify you are connected to the runtime env. successfully\n"
          ]
        }
      ],
      "source": [
        "print (\"Execute this cell to verify you are connected to the runtime environment successfully\")"
      ]
    },
    {
      "cell_type": "code",
      "source": [
        "#import tensorflow as tf\n",
        "import tensorflow as tf\n",
        "print(tf.__version__)"
      ],
      "metadata": {
        "colab": {
          "base_uri": "https://localhost:8080/"
        },
        "id": "Xm1tgW46gd4R",
        "outputId": "b99f1279-fec8-4ba8-9db3-647b681e3f05"
      },
      "execution_count": null,
      "outputs": [
        {
          "output_type": "stream",
          "name": "stdout",
          "text": [
            "2.7.0\n"
          ]
        }
      ]
    },
    {
      "cell_type": "markdown",
      "source": [
        "_Everything in TensorFlow is based on Tensor operations.\n",
        "Tensors are (kind of) like np.arrays.\n",
        "All tensors are immutable: you can never update the contents of a tensor, only create a new one._"
      ],
      "metadata": {
        "id": "ObrVxabnhQ95"
      }
    },
    {
      "cell_type": "markdown",
      "source": [
        "Don't forget to refer to Tensor documentation from TensorFlow\n",
        "\n",
        "https://www.tensorflow.org/guide/tensor#tfconvert_to_tensor\n"
      ],
      "metadata": {
        "id": "3GTf8WL8JGYn"
      }
    },
    {
      "cell_type": "markdown",
      "source": [
        "**1. Create Tensors - Add your answer below the questions(comments)**"
      ],
      "metadata": {
        "id": "Kjhpv6rAjAk-"
      }
    },
    {
      "cell_type": "code",
      "source": [
        "#Example on how to answer these comments\n",
        "\n",
        "\n",
        "# scalar with value 8, rank-0 tensor\n",
        "x = tf.constant(4)\n",
        "print(x)"
      ],
      "metadata": {
        "id": "yqXxTykVhiT9"
      },
      "execution_count": null,
      "outputs": []
    },
    {
      "cell_type": "code",
      "source": [
        "# scalar with any value and data type float32, rank-0 tensor"
      ],
      "metadata": {
        "id": "WRFHGxF7h85Z"
      },
      "execution_count": null,
      "outputs": []
    },
    {
      "cell_type": "code",
      "source": [
        "# create a tensor with these values \n",
        "# tf.Tensor([[4.]], shape=(1, 1), dtype=float32)"
      ],
      "metadata": {
        "id": "ab-_aCmBi44B"
      },
      "execution_count": null,
      "outputs": []
    },
    {
      "cell_type": "code",
      "source": [
        "# create a tensor as a vector, rank-1, with values 1,2,3"
      ],
      "metadata": {
        "id": "-Y-wBgJ3kKjf"
      },
      "execution_count": null,
      "outputs": []
    },
    {
      "cell_type": "code",
      "source": [
        "# create a tensor with these values \n",
        "# tf.Tensor([[1 2 3] [4 5 6]], shape=(2, 3), dtype=int32)"
      ],
      "metadata": {
        "id": "uR7DhuEqkuXv"
      },
      "execution_count": null,
      "outputs": []
    },
    {
      "cell_type": "code",
      "source": [
        "# create a tensor with shape = 3x3, with all 9 elements = 0 "
      ],
      "metadata": {
        "id": "D5I6_xmilNnH"
      },
      "execution_count": null,
      "outputs": []
    },
    {
      "cell_type": "code",
      "source": [
        "# create a tensor with shape = 3x3, with all 9 elements = 1 "
      ],
      "metadata": {
        "id": "wx83LZwllm8m"
      },
      "execution_count": null,
      "outputs": []
    },
    {
      "cell_type": "code",
      "source": [
        "# create a tensor with shape = 3x3, representing an identity matrix "
      ],
      "metadata": {
        "id": "k9pITB3JlvDG"
      },
      "execution_count": null,
      "outputs": []
    },
    {
      "cell_type": "code",
      "source": [
        "# create a tensor with shape = 3x3, filled with random values. The values should be normal distributed with mean=5, and standard deviation=2"
      ],
      "metadata": {
        "id": "nQRRh3HUn3yd"
      },
      "execution_count": null,
      "outputs": []
    },
    {
      "cell_type": "code",
      "source": [
        "# create a tensor with shape = 3x3, filled with random values. The values should be uniformly distributed in range of -1 to 1"
      ],
      "metadata": {
        "id": "eTs1Xdpcoxxc"
      },
      "execution_count": null,
      "outputs": []
    },
    {
      "cell_type": "code",
      "source": [
        "# create a tensor with tf.range, that will represnt this:\n",
        "# tf.Tensor([0 1 2 3 4 5 6 7 8 9], shape=(10,), dtype=int32)"
      ],
      "metadata": {
        "id": "4K3EA9Brpl7N"
      },
      "execution_count": null,
      "outputs": []
    },
    {
      "cell_type": "code",
      "source": [
        "# create a tensor with tf.range, that will represnt a list of all even numbers between 1 & 11. Then change the data type to float32 using tf.cast"
      ],
      "metadata": {
        "id": "DOhB2ZDNp86E"
      },
      "execution_count": null,
      "outputs": []
    },
    {
      "cell_type": "markdown",
      "source": [
        "**2. Mathmatical operations with Tensor - Add your answer below the questions(comments)**"
      ],
      "metadata": {
        "id": "H5_ChXJntdDi"
      }
    },
    {
      "cell_type": "code",
      "source": [
        "# Here are 2 tensors\n",
        "x = tf.constant([1,2,3])\n",
        "y = tf.constant([4,5,6])"
      ],
      "metadata": {
        "id": "QjfAhfDVtvOT"
      },
      "execution_count": null,
      "outputs": []
    },
    {
      "cell_type": "code",
      "source": [
        "# Add x and y using both tf.add and \"+\" operator. Note, both techniques are exactly same performance wise"
      ],
      "metadata": {
        "id": "wTuw-69Zt-aq"
      },
      "execution_count": null,
      "outputs": []
    },
    {
      "cell_type": "code",
      "source": [
        "# write code for (x-y)"
      ],
      "metadata": {
        "id": "WxJLd_8suTUj"
      },
      "execution_count": null,
      "outputs": []
    },
    {
      "cell_type": "code",
      "source": [
        "# Do\n",
        "# z = 1 / y and then element wise multiply z to x using tf.multiply "
      ],
      "metadata": {
        "id": "EgdgRlHnukez"
      },
      "execution_count": null,
      "outputs": []
    },
    {
      "cell_type": "code",
      "source": [
        "# matrix multiplication \n",
        "x = tf.random.normal((2,2)) \n",
        "y = tf.random.normal((3,4)) # correct the shape of y matrix such that it can be multiplied to x matrix\n",
        "\n",
        "\n",
        "# Write code to multiply 2 matrices x and y"
      ],
      "metadata": {
        "id": "y_5HQBpUw2Oi"
      },
      "execution_count": null,
      "outputs": []
    },
    {
      "cell_type": "markdown",
      "source": [
        "**3. Indexing and Slicing - Add your answer below the questions(comments)**\n",
        "\n",
        "For reference : https://sodocumentation.net/tensorflow/topic/2511/tensor-indexing\n"
      ],
      "metadata": {
        "id": "AZya05PMytD-"
      }
    },
    {
      "cell_type": "code",
      "source": [
        "# x has shape 2 rows with 4 columns\n",
        "x = tf.constant([\n",
        "                 [1,2,3,4],\n",
        "                 [5,6,7,8]])\n",
        "\n",
        "# Print all elements from first row \n",
        "print(x[0])\n",
        "\n",
        "# Print elements from all rows, column 0\n",
        "# print elements from row 1, all columns\n",
        "# Print element \"6\" from x"
      ],
      "metadata": {
        "id": "rKGriH8-y5PZ"
      },
      "execution_count": null,
      "outputs": []
    },
    {
      "cell_type": "code",
      "source": [
        "x = tf.constant([0, 1, 1, 2, 3, 1, 2, 3])\n",
        "# print all 8 elements from x\n",
        "print(x[:])\n",
        "\n",
        "# print all elements from x, without the first element\n",
        "# print tf.Tensor([1 1], shape=(2,), dtype=int32) from tensor x\n",
        "# print all elements at odd indeces in x\n",
        "# print all elements in x in reverse order"
      ],
      "metadata": {
        "id": "QiiUZtSZ6p52"
      },
      "execution_count": null,
      "outputs": []
    },
    {
      "cell_type": "code",
      "source": [
        "x = tf.constant([0, 1, 1, 2, 3, 1, 2, 3])\n",
        "indices = tf.constant([0, 3])\n",
        "# use tf.gather to print the elements in x at indexes given in indices list"
      ],
      "metadata": {
        "id": "m4L-Ah3k8sP2"
      },
      "execution_count": null,
      "outputs": []
    },
    {
      "cell_type": "code",
      "source": [
        "x = tf.constant([\n",
        "                 [1, 2], \n",
        "                 [3, 4], \n",
        "                 [5, 6]])\n",
        "\n",
        "# print all elements from first row\n",
        "# print all elements from first 2 rows only"
      ],
      "metadata": {
        "id": "HF8r8SdI9sCV"
      },
      "execution_count": null,
      "outputs": []
    },
    {
      "cell_type": "markdown",
      "source": [
        "**3. Reshape - Add your answer below the questions(comments)**"
      ],
      "metadata": {
        "id": "dFEP3in82j8D"
      }
    },
    {
      "cell_type": "code",
      "source": [
        "x = tf.random.normal((2,3))\n",
        "print(x)\n",
        "\n",
        "#reshape x to shape = 3,2\n",
        "\n",
        "#reshape x to shape = 6\n"
      ],
      "metadata": {
        "id": "pb6mrWhu2xbf"
      },
      "execution_count": null,
      "outputs": []
    },
    {
      "cell_type": "markdown",
      "source": [
        "**4. Convert numpy to tensor**"
      ],
      "metadata": {
        "id": "5hC5FOy64J9H"
      }
    },
    {
      "cell_type": "code",
      "source": [
        "# 6. numpy\n",
        "x = x.numpy()\n",
        "print(type(x))\n",
        "\n",
        "x = tf.convert_to_tensor(x)\n",
        "print(type(x))"
      ],
      "metadata": {
        "colab": {
          "base_uri": "https://localhost:8080/"
        },
        "id": "3BaHfNDQ356e",
        "outputId": "064f29f7-809b-44b6-d93f-f4cdbdd133c7"
      },
      "execution_count": null,
      "outputs": [
        {
          "output_type": "stream",
          "name": "stdout",
          "text": [
            "<class 'numpy.ndarray'>\n",
            "<class 'tensorflow.python.framework.ops.EagerTensor'>\n"
          ]
        }
      ]
    }
  ]
}