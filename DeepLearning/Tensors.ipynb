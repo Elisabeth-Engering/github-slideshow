{
  "nbformat": 4,
  "nbformat_minor": 0,
  "metadata": {
    "colab": {
      "name": "Tensors.ipynb",
      "provenance": [],
      "include_colab_link": true
    },
    "kernelspec": {
      "name": "python3",
      "display_name": "Python 3"
    },
    "language_info": {
      "name": "python"
    }
  },
  "cells": [
    {
      "cell_type": "markdown",
      "metadata": {
        "id": "view-in-github",
        "colab_type": "text"
      },
      "source": [
        "<a href=\"https://colab.research.google.com/github/Elisabeth-Engering/github-slideshow/blob/main/DeepLearning/Tensors.ipynb\" target=\"_parent\"><img src=\"https://colab.research.google.com/assets/colab-badge.svg\" alt=\"Open In Colab\"/></a>"
      ]
    },
    {
      "cell_type": "code",
      "execution_count": 3,
      "metadata": {
        "colab": {
          "base_uri": "https://localhost:8080/"
        },
        "id": "_8Bj7PuEZKc5",
        "outputId": "85cfa76f-9248-43e9-a716-db39eae1a4ee"
      },
      "outputs": [
        {
          "output_type": "stream",
          "name": "stdout",
          "text": [
            "Execute this cell to verify you are connected to the runtime environment successfully\n"
          ]
        }
      ],
      "source": [
        "print (\"Execute this cell to verify you are connected to the runtime environment successfully\")"
      ]
    },
    {
      "cell_type": "code",
      "source": [
        "#import tensorflow as tf\n",
        "import tensorflow as tf\n",
        "print(tf.__version__)"
      ],
      "metadata": {
        "colab": {
          "base_uri": "https://localhost:8080/"
        },
        "id": "Xm1tgW46gd4R",
        "outputId": "fd0b1496-bd14-40e4-8c5c-dd64c344d550"
      },
      "execution_count": 4,
      "outputs": [
        {
          "output_type": "stream",
          "name": "stdout",
          "text": [
            "2.8.0\n"
          ]
        }
      ]
    },
    {
      "cell_type": "markdown",
      "source": [
        "_Everything in TensorFlow is based on Tensor operations.\n",
        "Tensors are (kind of) like np.arrays.\n",
        "All tensors are immutable: you can never update the contents of a tensor, only create a new one._"
      ],
      "metadata": {
        "id": "ObrVxabnhQ95"
      }
    },
    {
      "cell_type": "markdown",
      "source": [
        "Don't forget to refer to Tensor documentation from TensorFlow\n",
        "\n",
        "https://www.tensorflow.org/guide/tensor#tfconvert_to_tensor\n"
      ],
      "metadata": {
        "id": "3GTf8WL8JGYn"
      }
    },
    {
      "cell_type": "markdown",
      "source": [
        "**1. Create Tensors - Add your answer below the questions(comments)**"
      ],
      "metadata": {
        "id": "Kjhpv6rAjAk-"
      }
    },
    {
      "cell_type": "code",
      "source": [
        "#Example on how to answer these comments\n",
        "\n",
        "# scalar with value 8, rank-0 tensor\n",
        "x = tf.constant(4)\n",
        "print(x)"
      ],
      "metadata": {
        "id": "yqXxTykVhiT9",
        "colab": {
          "base_uri": "https://localhost:8080/"
        },
        "outputId": "3616ba33-d45e-4215-9596-d845584ebf4e"
      },
      "execution_count": 11,
      "outputs": [
        {
          "output_type": "stream",
          "name": "stdout",
          "text": [
            "tf.Tensor(4, shape=(), dtype=int32)\n"
          ]
        }
      ]
    },
    {
      "cell_type": "code",
      "source": [
        "# scalar with any value and data type float32, rank-0 tensor\n",
        "x = tf.constant([[1,2],[3,4],[5,6]], dtype=tf.float32)\n",
        "print(x)"
      ],
      "metadata": {
        "id": "WRFHGxF7h85Z",
        "colab": {
          "base_uri": "https://localhost:8080/"
        },
        "outputId": "504f2ea8-5488-4bad-d0d4-0b7f7fc0ceaf"
      },
      "execution_count": 69,
      "outputs": [
        {
          "output_type": "stream",
          "name": "stdout",
          "text": [
            "tf.Tensor(\n",
            "[[1. 2.]\n",
            " [3. 4.]\n",
            " [5. 6.]], shape=(3, 2), dtype=float32)\n"
          ]
        }
      ]
    },
    {
      "cell_type": "code",
      "source": [
        "# create a tensor with these values \n",
        "# tf.Tensor(4, shape=(1, 1), dtype=float32)\n",
        "x = tf.constant([[4]], dtype=tf.float32)\n",
        "print(x)"
      ],
      "metadata": {
        "id": "ab-_aCmBi44B",
        "colab": {
          "base_uri": "https://localhost:8080/"
        },
        "outputId": "1fa5d45c-48fa-44f7-c028-e7b149f08f9b"
      },
      "execution_count": 70,
      "outputs": [
        {
          "output_type": "stream",
          "name": "stdout",
          "text": [
            "tf.Tensor([[4.]], shape=(1, 1), dtype=float32)\n"
          ]
        }
      ]
    },
    {
      "cell_type": "code",
      "source": [
        "# create a tensor as a vector, rank-1, with values 1,2,3\n",
        "x = tf.constant([1,2,3])\n",
        "print(x)"
      ],
      "metadata": {
        "id": "-Y-wBgJ3kKjf"
      },
      "execution_count": null,
      "outputs": []
    },
    {
      "cell_type": "code",
      "source": [
        "# create a tensor with these values \n",
        "# tf.Tensor([[1 2 3] [4 5 6]], shape=(2, 3), dtype=int32)\n",
        "x = tf.constant([[1,2,3], [4,5,6]])\n",
        "print(x)"
      ],
      "metadata": {
        "id": "uR7DhuEqkuXv"
      },
      "execution_count": null,
      "outputs": []
    },
    {
      "cell_type": "code",
      "source": [
        "# create a tensor with shape = 3x3, with all 9 elements = 0 \n",
        "y = tf.zeros((3,3))\n",
        "print(y)"
      ],
      "metadata": {
        "id": "D5I6_xmilNnH",
        "colab": {
          "base_uri": "https://localhost:8080/"
        },
        "outputId": "cc3fc119-462e-4ebd-d86e-c05b14a59a18"
      },
      "execution_count": 74,
      "outputs": [
        {
          "output_type": "stream",
          "name": "stdout",
          "text": [
            "tf.Tensor(\n",
            "[[0. 0. 0.]\n",
            " [0. 0. 0.]\n",
            " [0. 0. 0.]], shape=(3, 3), dtype=float32)\n"
          ]
        }
      ]
    },
    {
      "cell_type": "code",
      "source": [
        "# create a tensor with shape = 3x3, with all 9 elements = 1 \n",
        "x = tf.ones((3,3))\n",
        "print(x)"
      ],
      "metadata": {
        "id": "wx83LZwllm8m",
        "colab": {
          "base_uri": "https://localhost:8080/"
        },
        "outputId": "44121f5b-f5ec-4b50-8f3a-10a86ea31554"
      },
      "execution_count": 75,
      "outputs": [
        {
          "output_type": "stream",
          "name": "stdout",
          "text": [
            "tf.Tensor(\n",
            "[[1. 1. 1.]\n",
            " [1. 1. 1.]\n",
            " [1. 1. 1.]], shape=(3, 3), dtype=float32)\n"
          ]
        }
      ]
    },
    {
      "cell_type": "code",
      "source": [
        "# create a tensor with shape = 3x3, representing an identity matrix \n",
        "x = tf.eye(3)\n",
        "print(x)"
      ],
      "metadata": {
        "id": "k9pITB3JlvDG",
        "colab": {
          "base_uri": "https://localhost:8080/"
        },
        "outputId": "4f3fef84-ed4c-4978-b7dd-562fcb93d00f"
      },
      "execution_count": 76,
      "outputs": [
        {
          "output_type": "stream",
          "name": "stdout",
          "text": [
            "tf.Tensor(\n",
            "[[1. 0. 0.]\n",
            " [0. 1. 0.]\n",
            " [0. 0. 1.]], shape=(3, 3), dtype=float32)\n"
          ]
        }
      ]
    },
    {
      "cell_type": "code",
      "source": [
        "# create a tensor with shape = 3x3, filled with random values. The values should be normal distributed with mean=5, and standard deviation=2\n",
        "x = tf.random.normal([3,3], 5, 2)\n",
        "print(x)\n",
        "# or\n",
        "x = tf.random.normal((3,3), mean=5, stddev=2)\n",
        "print(x)"
      ],
      "metadata": {
        "id": "nQRRh3HUn3yd",
        "colab": {
          "base_uri": "https://localhost:8080/"
        },
        "outputId": "ecd93c61-c21a-4c1e-942f-2711e5cf07ae"
      },
      "execution_count": 77,
      "outputs": [
        {
          "output_type": "stream",
          "name": "stdout",
          "text": [
            "tf.Tensor(\n",
            "[[5.451225  3.1871614 8.47667  ]\n",
            " [5.714191  4.2536993 4.954877 ]\n",
            " [8.176823  5.21314   4.375807 ]], shape=(3, 3), dtype=float32)\n",
            "tf.Tensor(\n",
            "[[6.251859   4.087904   0.92807055]\n",
            " [4.8947783  7.3459406  6.9680986 ]\n",
            " [3.6432533  1.0950723  6.7576666 ]], shape=(3, 3), dtype=float32)\n"
          ]
        }
      ]
    },
    {
      "cell_type": "code",
      "source": [
        "# create a tensor with shape = 3x3, filled with random values. The values should be uniformly distributed in range of -1 to 1\n",
        "x = tf.random.uniform(shape=[3,3], minval=-1, maxval=1)\n",
        "print(x)"
      ],
      "metadata": {
        "id": "eTs1Xdpcoxxc",
        "colab": {
          "base_uri": "https://localhost:8080/"
        },
        "outputId": "653fbae7-13fa-443c-afdb-599517d3ba12"
      },
      "execution_count": 19,
      "outputs": [
        {
          "output_type": "stream",
          "name": "stdout",
          "text": [
            "tf.Tensor(\n",
            "[[ 0.6928692   0.5050733  -0.57175255]\n",
            " [-0.43856382  0.34311652  0.15577936]\n",
            " [-0.6101463   0.01781178 -0.54022217]], shape=(3, 3), dtype=float32)\n"
          ]
        }
      ]
    },
    {
      "cell_type": "code",
      "source": [
        "# create a tensor with tf.range, that will represnt this:\n",
        "# tf.Tensor([0 1 2 3 4 5 6 7 8 9], shape=(10,), dtype=int32)\n",
        "start = 0\n",
        "limit = 10\n",
        "delta = 1\n",
        "x = tf.range(start, limit, delta)\n",
        "print(x)\n",
        "# or\n",
        "x = tf.range(start=0, limit=10,delta=1)\n",
        "print(x)"
      ],
      "metadata": {
        "id": "4K3EA9Brpl7N",
        "colab": {
          "base_uri": "https://localhost:8080/"
        },
        "outputId": "ec1e047d-6ad3-4ee7-e54b-0c3997e2928d"
      },
      "execution_count": 78,
      "outputs": [
        {
          "output_type": "stream",
          "name": "stdout",
          "text": [
            "tf.Tensor([0 1 2 3 4 5 6 7 8 9], shape=(10,), dtype=int32)\n",
            "tf.Tensor([0 1 2 3 4 5 6 7 8 9], shape=(10,), dtype=int32)\n"
          ]
        }
      ]
    },
    {
      "cell_type": "code",
      "source": [
        "# create a tensor with tf.range, that will represnt a list of all even numbers between 1 & 11. Then change the data type to float32 using tf.cast\n",
        "start = 2\n",
        "limit = 12\n",
        "delta = 2\n",
        "x = tf.range(start, limit, delta)\n",
        "x = tf.cast(x, tf.float32)\n",
        "print(x)\n",
        "# or\n",
        "x = tf.range(start=2, limit=12,delta=2)\n",
        "x = tf.cast(x, tf.float32)\n",
        "print(x)"
      ],
      "metadata": {
        "id": "DOhB2ZDNp86E",
        "colab": {
          "base_uri": "https://localhost:8080/"
        },
        "outputId": "374cd969-d18d-4baa-e7bb-4f967c0bbe43"
      },
      "execution_count": 80,
      "outputs": [
        {
          "output_type": "stream",
          "name": "stdout",
          "text": [
            "tf.Tensor([ 2.  4.  6.  8. 10.], shape=(5,), dtype=float32)\n",
            "tf.Tensor([ 2.  4.  6.  8. 10.], shape=(5,), dtype=float32)\n"
          ]
        }
      ]
    },
    {
      "cell_type": "markdown",
      "source": [
        "**2. Mathmatical operations with Tensor - Add your answer below the questions(comments)**"
      ],
      "metadata": {
        "id": "H5_ChXJntdDi"
      }
    },
    {
      "cell_type": "code",
      "source": [
        "# Here are 2 tensors\n",
        "x = tf.constant([1,2,3])\n",
        "y = tf.constant([4,5,6])"
      ],
      "metadata": {
        "id": "QjfAhfDVtvOT"
      },
      "execution_count": 82,
      "outputs": []
    },
    {
      "cell_type": "code",
      "source": [
        "# Add x and y using both tf.add and \"+\" operator. Note, both techniques are exactly same performance wise\n",
        "print(tf.add(x, y))\n",
        "# or\n",
        "print(x + y)"
      ],
      "metadata": {
        "id": "wTuw-69Zt-aq",
        "colab": {
          "base_uri": "https://localhost:8080/"
        },
        "outputId": "0059fd7b-2a85-4927-9fe4-bfa87b15834b"
      },
      "execution_count": 83,
      "outputs": [
        {
          "output_type": "stream",
          "name": "stdout",
          "text": [
            "tf.Tensor([5 7 9], shape=(3,), dtype=int32)\n",
            "tf.Tensor([5 7 9], shape=(3,), dtype=int32)\n"
          ]
        }
      ]
    },
    {
      "cell_type": "code",
      "source": [
        "# write code for (x-y)\n",
        "print(tf.subtract(x,y))\n",
        "# or\n",
        "print(x - y)"
      ],
      "metadata": {
        "id": "WxJLd_8suTUj",
        "colab": {
          "base_uri": "https://localhost:8080/"
        },
        "outputId": "ee4f096d-a391-483f-96bd-1f44abc221c6"
      },
      "execution_count": 84,
      "outputs": [
        {
          "output_type": "stream",
          "name": "stdout",
          "text": [
            "tf.Tensor([-3 -3 -3], shape=(3,), dtype=int32)\n",
            "tf.Tensor([-3 -3 -3], shape=(3,), dtype=int32)\n"
          ]
        }
      ]
    },
    {
      "cell_type": "code",
      "source": [
        "# Do z = 1 / y and then element wise multiply z to x using tf.multiply \n",
        "z = 1 / y\n",
        "z = z * tf.cast(x, dtype=tf.double)\n",
        "print(z)\n",
        "\n",
        "a = tf.multiply(z,x)\n",
        "print(a)"
      ],
      "metadata": {
        "id": "EgdgRlHnukez"
      },
      "execution_count": 85,
      "outputs": []
    },
    {
      "cell_type": "code",
      "source": [
        "# matrix multiplication \n",
        "x = tf.random.normal((2,2)) \n",
        "y = tf.random.normal((3,4)) \n",
        "\n",
        "# correct the shape of y matrix such that it can be multiplied to x matrix\n",
        "reshaped_y = tf.reshape(y, [2,6])\n",
        "\n",
        "# Write code to multiply 2 matrices x and y\n",
        "z = tf.matmul(x,reshaped_y)\n",
        "print(z)"
      ],
      "metadata": {
        "id": "y_5HQBpUw2Oi",
        "colab": {
          "base_uri": "https://localhost:8080/"
        },
        "outputId": "b99b6f7f-afb9-438c-b8cf-20393f40ae05"
      },
      "execution_count": 88,
      "outputs": [
        {
          "output_type": "stream",
          "name": "stdout",
          "text": [
            "tf.Tensor(\n",
            "[[-0.15130015 -0.60648984 -0.3932451   0.62908304  0.3450277   0.30399925]\n",
            " [ 0.00989947 -0.5024148  -0.01669383  0.5913449   0.28160307 -0.43250507]], shape=(2, 6), dtype=float32)\n"
          ]
        }
      ]
    },
    {
      "cell_type": "markdown",
      "source": [
        "**3. Indexing and Slicing - Add your answer below the questions(comments)**\n",
        "\n",
        "For reference : https://sodocumentation.net/tensorflow/topic/2511/tensor-indexing\n"
      ],
      "metadata": {
        "id": "AZya05PMytD-"
      }
    },
    {
      "cell_type": "code",
      "source": [
        "# x has shape 2 rows with 4 columns\n",
        "x = tf.constant([[1,2,3,4],\n",
        "                 [5,6,7,8]])\n",
        "\n",
        "# Print all elements from first row \n",
        "print(x[0])\n",
        "\n",
        "# Print elements from all rows, column 0\n",
        "print(x[:, 0])\n",
        "\n",
        "# print elements from row 1, all columns\n",
        "print(x[1, :])\n",
        "\n",
        "# Print element \"6\" from x\n",
        "print(x[1,1])"
      ],
      "metadata": {
        "id": "rKGriH8-y5PZ",
        "colab": {
          "base_uri": "https://localhost:8080/"
        },
        "outputId": "e1f60076-ac1f-4106-b98a-41bb0edca3bf"
      },
      "execution_count": 89,
      "outputs": [
        {
          "output_type": "stream",
          "name": "stdout",
          "text": [
            "tf.Tensor([1 2 3 4], shape=(4,), dtype=int32)\n",
            "tf.Tensor([1 5], shape=(2,), dtype=int32)\n",
            "tf.Tensor([5 6 7 8], shape=(4,), dtype=int32)\n",
            "tf.Tensor(6, shape=(), dtype=int32)\n"
          ]
        }
      ]
    },
    {
      "cell_type": "code",
      "source": [
        "x = tf.constant([0, 1, 1, 2, 3, 1, 2, 3])\n",
        "# print all 8 elements from x\n",
        "print(x[:])\n",
        "\n",
        "# print all elements from x, without the first element\n",
        "print(x[1:])\n",
        "\n",
        "# print tf.Tensor([1 1], shape=(2,), dtype=int32) from tensor x\n",
        "x = tf.constant([1,1])\n",
        "print(x)\n",
        "\n",
        "# print all elements at odd indeces in x\n",
        "print(x[::2])\n",
        "\n",
        "# print all elements in x in reverse order\n",
        "print(x[::-1])"
      ],
      "metadata": {
        "id": "QiiUZtSZ6p52",
        "colab": {
          "base_uri": "https://localhost:8080/"
        },
        "outputId": "876ba7ba-cba2-4c1a-bf4b-8d7dc3fafeb3"
      },
      "execution_count": 92,
      "outputs": [
        {
          "output_type": "stream",
          "name": "stdout",
          "text": [
            "tf.Tensor([0 1 1 2 3 1 2 3], shape=(8,), dtype=int32)\n",
            "tf.Tensor([1 1 2 3 1 2 3], shape=(7,), dtype=int32)\n",
            "tf.Tensor([1 1], shape=(2,), dtype=int32)\n",
            "tf.Tensor([1], shape=(1,), dtype=int32)\n",
            "tf.Tensor([1], shape=(1,), dtype=int32)\n",
            "tf.Tensor([1 1], shape=(2,), dtype=int32)\n"
          ]
        }
      ]
    },
    {
      "cell_type": "code",
      "source": [
        "x = tf.constant([0, 1, 1, 2, 3, 1, 2, 3])\n",
        "indices = tf.constant([0, 3])\n",
        "# use tf.gather to print the elements in x at indexes given in indices list\n",
        "x_indices = tf.gather(x, indices)\n",
        "print(x_indices)"
      ],
      "metadata": {
        "id": "m4L-Ah3k8sP2",
        "colab": {
          "base_uri": "https://localhost:8080/"
        },
        "outputId": "a5a22367-4275-4ad9-ece9-cc4ba1e5da57"
      },
      "execution_count": 93,
      "outputs": [
        {
          "output_type": "stream",
          "name": "stdout",
          "text": [
            "tf.Tensor([0 2], shape=(2,), dtype=int32)\n"
          ]
        }
      ]
    },
    {
      "cell_type": "code",
      "source": [
        "x = tf.constant([\n",
        "                 [1, 2], \n",
        "                 [3, 4], \n",
        "                 [5, 6]])\n",
        "\n",
        "# print all elements from first row\n",
        "print(x[0, :])\n",
        "\n",
        "# print all elements from first 2 rows only\n",
        "print(x[0:2, :])"
      ],
      "metadata": {
        "id": "HF8r8SdI9sCV",
        "colab": {
          "base_uri": "https://localhost:8080/"
        },
        "outputId": "77150244-9d94-46e8-a60a-a2ed8f351c57"
      },
      "execution_count": 94,
      "outputs": [
        {
          "output_type": "stream",
          "name": "stdout",
          "text": [
            "tf.Tensor([1 2], shape=(2,), dtype=int32)\n",
            "tf.Tensor(\n",
            "[[1 2]\n",
            " [3 4]], shape=(2, 2), dtype=int32)\n"
          ]
        }
      ]
    },
    {
      "cell_type": "markdown",
      "source": [
        "**3. Reshape - Add your answer below the questions(comments)**"
      ],
      "metadata": {
        "id": "dFEP3in82j8D"
      }
    },
    {
      "cell_type": "code",
      "source": [
        "x = tf.random.normal((2,3))\n",
        "print(x)\n",
        "\n",
        "#reshape x to shape = 3,2\n",
        "x = tf.reshape(x, [3,2])\n",
        "print(x)\n",
        "\n",
        "#reshape x to shape = 6\n",
        "x = tf.reshape(x, [6])\n",
        "print(x)"
      ],
      "metadata": {
        "id": "pb6mrWhu2xbf",
        "colab": {
          "base_uri": "https://localhost:8080/"
        },
        "outputId": "56c8b70e-204d-40a9-b37c-f65d90af0d8d"
      },
      "execution_count": 66,
      "outputs": [
        {
          "output_type": "stream",
          "name": "stdout",
          "text": [
            "tf.Tensor(\n",
            "[[ 0.76771855  0.08923824  0.04105416]\n",
            " [-1.1116366  -0.4614231   0.18090379]], shape=(2, 3), dtype=float32)\n",
            "tf.Tensor(\n",
            "[[ 0.76771855  0.08923824]\n",
            " [ 0.04105416 -1.1116366 ]\n",
            " [-0.4614231   0.18090379]], shape=(3, 2), dtype=float32)\n",
            "tf.Tensor([ 0.76771855  0.08923824  0.04105416 -1.1116366  -0.4614231   0.18090379], shape=(6,), dtype=float32)\n"
          ]
        }
      ]
    },
    {
      "cell_type": "markdown",
      "source": [
        "**4. Convert numpy to tensor**"
      ],
      "metadata": {
        "id": "5hC5FOy64J9H"
      }
    },
    {
      "cell_type": "code",
      "source": [
        "# 6. numpy\n",
        "x = x.numpy()\n",
        "print(type(x))\n",
        "\n",
        "x = tf.convert_to_tensor(x)\n",
        "print(type(x))"
      ],
      "metadata": {
        "colab": {
          "base_uri": "https://localhost:8080/"
        },
        "id": "3BaHfNDQ356e",
        "outputId": "b2e16698-39eb-4c8f-991b-d54f66d79ec6"
      },
      "execution_count": 67,
      "outputs": [
        {
          "output_type": "stream",
          "name": "stdout",
          "text": [
            "<class 'numpy.ndarray'>\n",
            "<class 'tensorflow.python.framework.ops.EagerTensor'>\n"
          ]
        }
      ]
    }
  ]
}